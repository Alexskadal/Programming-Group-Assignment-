{
 "cells": [
  {
   "cell_type": "code",
   "execution_count": 2,
   "id": "8e181ef0",
   "metadata": {},
   "outputs": [
    {
     "name": "stdout",
     "output_type": "stream",
     "text": [
      "Welcome to the Powerball Lottery!\n",
      "How many tickets would you like to purchase? 1\n",
      "Do you want a Quick Pick? (y/n) y\n",
      "Winning numbers: [2, 19, 33, 36, 50, 3]\n",
      "Sorry, you didn't win anything with ticket [32, 48, 51, 59, 69, 21]\n",
      "Total winnings: $ 0\n"
     ]
    }
   ],
   "source": [
    "import random\n",
    "\n",
    "def powerball():\n",
    "    # greet player and ask how many tickets they want to purchase\n",
    "    print(\"Welcome to the Powerball Lottery!\")\n",
    "    num_tickets = int(input(\"How many tickets would you like to purchase? \"))\n",
    "\n",
    "    # ask if player wants a Quick Pick\n",
    "    quick_pick = input(\"Do you want a Quick Pick? (y/n) \")\n",
    "    if quick_pick.lower() == \"y\":\n",
    "        # generate random numbers for each ticket\n",
    "        tickets = []\n",
    "        for i in range(num_tickets):\n",
    "            ticket = sorted(random.sample(range(1, 70), 5))\n",
    "            ticket.append(random.randint(1, 26))\n",
    "            tickets.append(ticket)\n",
    "    else:\n",
    "        # allow player to select numbers for each ticket\n",
    "        tickets = []\n",
    "        for i in range(num_tickets):\n",
    "            print(f\"Ticket {i+1}:\")\n",
    "            ticket = []\n",
    "            for j in range(5):\n",
    "                num = int(input(f\"Enter number {j+1} (1-69): \"))\n",
    "                while num in ticket or num < 1 or num > 69:\n",
    "                    num = int(input(f\"Invalid number. Enter number {j+1} (1-69): \"))\n",
    "                ticket.append(num)\n",
    "            powerball = int(input(\"Enter Powerball number (1-26): \"))\n",
    "            while powerball < 1 or powerball > 26:\n",
    "                powerball = int(input(\"Invalid number. Enter Powerball number (1-26): \"))\n",
    "            ticket.append(powerball)\n",
    "            tickets.append(ticket)\n",
    "\n",
    "    # generate winning numbers\n",
    "    winning_numbers = sorted(random.sample(range(1, 70), 5))\n",
    "    winning_numbers.append(random.randint(1, 26))\n",
    "    print(\"Winning numbers:\", winning_numbers)\n",
    "\n",
    "    # determine prizes and winnings\n",
    "    prizes = {\n",
    "        (0, False): 0,\n",
    "        (1, False): 0,\n",
    "        (2, False): 0,\n",
    "        (3, False): 7,\n",
    "        (3, True): 100,\n",
    "        (4, False): 100,\n",
    "        (4, True): 50000,\n",
    "        (5, False): 1000000,\n",
    "        (5, True): 1000000000\n",
    "    }\n",
    "    total_winnings = 0\n",
    "    for ticket in tickets:\n",
    "        num_matches = len(set(ticket[:5]).intersection(winning_numbers[:5]))\n",
    "        powerball_match = ticket[5] == winning_numbers[5]\n",
    "        winnings = prizes[(num_matches, powerball_match)]\n",
    "        total_winnings += winnings\n",
    "        if winnings > 0:\n",
    "            print(\"Congratulations! You won $\", winnings, \"with ticket\", ticket)\n",
    "        else:\n",
    "            print(\"Sorry, you didn't win anything with ticket\", ticket)\n",
    "    print(\"Total winnings: $\", total_winnings)\n",
    "\n",
    "# run game\n",
    "powerball()"
   ]
  }
 ],
 "metadata": {
  "kernelspec": {
   "display_name": "Python 3",
   "language": "python",
   "name": "python3"
  },
  "language_info": {
   "codemirror_mode": {
    "name": "ipython",
    "version": 3
   },
   "file_extension": ".py",
   "mimetype": "text/x-python",
   "name": "python",
   "nbconvert_exporter": "python",
   "pygments_lexer": "ipython3",
   "version": "3.8.8"
  }
 },
 "nbformat": 4,
 "nbformat_minor": 5
}
